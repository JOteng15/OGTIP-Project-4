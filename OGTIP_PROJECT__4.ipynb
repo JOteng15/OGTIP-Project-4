{
  "cells": [
    {
      "cell_type": "markdown",
      "metadata": {
        "id": "view-in-github",
        "colab_type": "text"
      },
      "source": [
        "<a href=\"https://colab.research.google.com/github/JOteng15/OGTIP-Project-4/blob/main/OGTIP_PROJECT__4.ipynb\" target=\"_parent\"><img src=\"https://colab.research.google.com/assets/colab-badge.svg\" alt=\"Open In Colab\"/></a>"
      ]
    },
    {
      "cell_type": "code",
      "execution_count": null,
      "metadata": {
        "id": "LrvosyB12DaH"
      },
      "outputs": [],
      "source": [
        "import pandas as pd # data processing\n",
        "import matplotlib.pyplot as plt # data visualisation\n",
        "import seaborn as sns\n",
        "\n",
        "\n",
        "from sklearn.metrics import confusion_matrix\n",
        "from sklearn.metrics import precision_score, recall_score,accuracy_score,f1_score\n",
        "from sklearn.metrics import roc_curve\n",
        "from sklearn.preprocessing import StandardScaler\n",
        "from sklearn.decomposition import PCA\n",
        "import numpy as np\n",
        "\n",
        "\n",
        " #machine learning models\n",
        "from sklearn.linear_model import LogisticRegression\n",
        "from sklearn.ensemble import RandomForestClassifier\n",
        "from sklearn.tree import DecisionTreeClassifier\n",
        "from sklearn.svm import SVC, LinearSVC\n",
        "from sklearn.naive_bayes import GaussianNB\n",
        "from sklearn import svm\n",
        "\n",
        "\n",
        "from sklearn.model_selection import train_test_split\n",
        "from sklearn import metrics"
      ]
    },
    {
      "cell_type": "code",
      "execution_count": null,
      "metadata": {
        "colab": {
          "base_uri": "https://localhost:8080/"
        },
        "id": "eufAKBx22Iua",
        "outputId": "188f9fc6-7e68-4ddc-878b-8e18e13774da"
      },
      "outputs": [
        {
          "output_type": "stream",
          "name": "stderr",
          "text": [
            "<ipython-input-21-ece021ed119a>:1: DtypeWarning: Columns (135,204,274) have mixed types. Specify dtype option on import or set low_memory=False.\n",
            "  data = pd.read_csv(\"train_v2.csv\")\n"
          ]
        }
      ],
      "source": [
        "data = pd.read_csv(\"train_v2.csv\")"
      ]
    },
    {
      "cell_type": "code",
      "execution_count": null,
      "metadata": {
        "colab": {
          "base_uri": "https://localhost:8080/",
          "height": 256
        },
        "id": "0FUlUvS5315Q",
        "outputId": "00069c14-2fef-4216-8955-7a93ef85ba4b"
      },
      "outputs": [
        {
          "output_type": "execute_result",
          "data": {
            "text/plain": [
              "   id   f1  f2        f3    f4  f5     f6      f7      f8      f9  ...  f770  \\\n",
              "0   1  126  10  0.686842  1100   3  13699  7201.0  4949.0  126.75  ...   5.0   \n",
              "1   2  121  10  0.782776  1100   3  84645   240.0  1625.0  123.52  ...   6.0   \n",
              "2   3  126  10  0.500080  1100   3  83607  1800.0  1527.0  127.76  ...  13.0   \n",
              "3   4  134  10  0.439874  1100   3  82642  7542.0  1730.0  132.94  ...   4.0   \n",
              "4   5  109   9  0.502749  2900   4  79124    89.0   491.0  122.72  ...  26.0   \n",
              "\n",
              "   f771  f772  f773    f774    f775  f776  f777  f778  loss  \n",
              "0  2.14 -1.54  1.18  0.1833  0.7873   1.0   0.0   5.0   0.0  \n",
              "1  0.54 -0.24  0.13  0.1926 -0.6787   1.0   0.0   5.0   0.0  \n",
              "2  2.89 -1.73  1.04  0.2521  0.7258   1.0   0.0   5.0   0.0  \n",
              "3  1.29 -0.89  0.66  0.2498  0.7119   1.0   0.0   5.0   0.0  \n",
              "4  6.11 -3.82  2.51  0.2282 -0.5399   0.0   0.0   5.0   0.0  \n",
              "\n",
              "[5 rows x 771 columns]"
            ],
            "text/html": [
              "\n",
              "  <div id=\"df-ef20a845-54e4-4c65-8899-cf24b341931c\" class=\"colab-df-container\">\n",
              "    <div>\n",
              "<style scoped>\n",
              "    .dataframe tbody tr th:only-of-type {\n",
              "        vertical-align: middle;\n",
              "    }\n",
              "\n",
              "    .dataframe tbody tr th {\n",
              "        vertical-align: top;\n",
              "    }\n",
              "\n",
              "    .dataframe thead th {\n",
              "        text-align: right;\n",
              "    }\n",
              "</style>\n",
              "<table border=\"1\" class=\"dataframe\">\n",
              "  <thead>\n",
              "    <tr style=\"text-align: right;\">\n",
              "      <th></th>\n",
              "      <th>id</th>\n",
              "      <th>f1</th>\n",
              "      <th>f2</th>\n",
              "      <th>f3</th>\n",
              "      <th>f4</th>\n",
              "      <th>f5</th>\n",
              "      <th>f6</th>\n",
              "      <th>f7</th>\n",
              "      <th>f8</th>\n",
              "      <th>f9</th>\n",
              "      <th>...</th>\n",
              "      <th>f770</th>\n",
              "      <th>f771</th>\n",
              "      <th>f772</th>\n",
              "      <th>f773</th>\n",
              "      <th>f774</th>\n",
              "      <th>f775</th>\n",
              "      <th>f776</th>\n",
              "      <th>f777</th>\n",
              "      <th>f778</th>\n",
              "      <th>loss</th>\n",
              "    </tr>\n",
              "  </thead>\n",
              "  <tbody>\n",
              "    <tr>\n",
              "      <th>0</th>\n",
              "      <td>1</td>\n",
              "      <td>126</td>\n",
              "      <td>10</td>\n",
              "      <td>0.686842</td>\n",
              "      <td>1100</td>\n",
              "      <td>3</td>\n",
              "      <td>13699</td>\n",
              "      <td>7201.0</td>\n",
              "      <td>4949.0</td>\n",
              "      <td>126.75</td>\n",
              "      <td>...</td>\n",
              "      <td>5.0</td>\n",
              "      <td>2.14</td>\n",
              "      <td>-1.54</td>\n",
              "      <td>1.18</td>\n",
              "      <td>0.1833</td>\n",
              "      <td>0.7873</td>\n",
              "      <td>1.0</td>\n",
              "      <td>0.0</td>\n",
              "      <td>5.0</td>\n",
              "      <td>0.0</td>\n",
              "    </tr>\n",
              "    <tr>\n",
              "      <th>1</th>\n",
              "      <td>2</td>\n",
              "      <td>121</td>\n",
              "      <td>10</td>\n",
              "      <td>0.782776</td>\n",
              "      <td>1100</td>\n",
              "      <td>3</td>\n",
              "      <td>84645</td>\n",
              "      <td>240.0</td>\n",
              "      <td>1625.0</td>\n",
              "      <td>123.52</td>\n",
              "      <td>...</td>\n",
              "      <td>6.0</td>\n",
              "      <td>0.54</td>\n",
              "      <td>-0.24</td>\n",
              "      <td>0.13</td>\n",
              "      <td>0.1926</td>\n",
              "      <td>-0.6787</td>\n",
              "      <td>1.0</td>\n",
              "      <td>0.0</td>\n",
              "      <td>5.0</td>\n",
              "      <td>0.0</td>\n",
              "    </tr>\n",
              "    <tr>\n",
              "      <th>2</th>\n",
              "      <td>3</td>\n",
              "      <td>126</td>\n",
              "      <td>10</td>\n",
              "      <td>0.500080</td>\n",
              "      <td>1100</td>\n",
              "      <td>3</td>\n",
              "      <td>83607</td>\n",
              "      <td>1800.0</td>\n",
              "      <td>1527.0</td>\n",
              "      <td>127.76</td>\n",
              "      <td>...</td>\n",
              "      <td>13.0</td>\n",
              "      <td>2.89</td>\n",
              "      <td>-1.73</td>\n",
              "      <td>1.04</td>\n",
              "      <td>0.2521</td>\n",
              "      <td>0.7258</td>\n",
              "      <td>1.0</td>\n",
              "      <td>0.0</td>\n",
              "      <td>5.0</td>\n",
              "      <td>0.0</td>\n",
              "    </tr>\n",
              "    <tr>\n",
              "      <th>3</th>\n",
              "      <td>4</td>\n",
              "      <td>134</td>\n",
              "      <td>10</td>\n",
              "      <td>0.439874</td>\n",
              "      <td>1100</td>\n",
              "      <td>3</td>\n",
              "      <td>82642</td>\n",
              "      <td>7542.0</td>\n",
              "      <td>1730.0</td>\n",
              "      <td>132.94</td>\n",
              "      <td>...</td>\n",
              "      <td>4.0</td>\n",
              "      <td>1.29</td>\n",
              "      <td>-0.89</td>\n",
              "      <td>0.66</td>\n",
              "      <td>0.2498</td>\n",
              "      <td>0.7119</td>\n",
              "      <td>1.0</td>\n",
              "      <td>0.0</td>\n",
              "      <td>5.0</td>\n",
              "      <td>0.0</td>\n",
              "    </tr>\n",
              "    <tr>\n",
              "      <th>4</th>\n",
              "      <td>5</td>\n",
              "      <td>109</td>\n",
              "      <td>9</td>\n",
              "      <td>0.502749</td>\n",
              "      <td>2900</td>\n",
              "      <td>4</td>\n",
              "      <td>79124</td>\n",
              "      <td>89.0</td>\n",
              "      <td>491.0</td>\n",
              "      <td>122.72</td>\n",
              "      <td>...</td>\n",
              "      <td>26.0</td>\n",
              "      <td>6.11</td>\n",
              "      <td>-3.82</td>\n",
              "      <td>2.51</td>\n",
              "      <td>0.2282</td>\n",
              "      <td>-0.5399</td>\n",
              "      <td>0.0</td>\n",
              "      <td>0.0</td>\n",
              "      <td>5.0</td>\n",
              "      <td>0.0</td>\n",
              "    </tr>\n",
              "  </tbody>\n",
              "</table>\n",
              "<p>5 rows × 771 columns</p>\n",
              "</div>\n",
              "    <div class=\"colab-df-buttons\">\n",
              "\n",
              "  <div class=\"colab-df-container\">\n",
              "    <button class=\"colab-df-convert\" onclick=\"convertToInteractive('df-ef20a845-54e4-4c65-8899-cf24b341931c')\"\n",
              "            title=\"Convert this dataframe to an interactive table.\"\n",
              "            style=\"display:none;\">\n",
              "\n",
              "  <svg xmlns=\"http://www.w3.org/2000/svg\" height=\"24px\" viewBox=\"0 -960 960 960\">\n",
              "    <path d=\"M120-120v-720h720v720H120Zm60-500h600v-160H180v160Zm220 220h160v-160H400v160Zm0 220h160v-160H400v160ZM180-400h160v-160H180v160Zm440 0h160v-160H620v160ZM180-180h160v-160H180v160Zm440 0h160v-160H620v160Z\"/>\n",
              "  </svg>\n",
              "    </button>\n",
              "\n",
              "  <style>\n",
              "    .colab-df-container {\n",
              "      display:flex;\n",
              "      gap: 12px;\n",
              "    }\n",
              "\n",
              "    .colab-df-convert {\n",
              "      background-color: #E8F0FE;\n",
              "      border: none;\n",
              "      border-radius: 50%;\n",
              "      cursor: pointer;\n",
              "      display: none;\n",
              "      fill: #1967D2;\n",
              "      height: 32px;\n",
              "      padding: 0 0 0 0;\n",
              "      width: 32px;\n",
              "    }\n",
              "\n",
              "    .colab-df-convert:hover {\n",
              "      background-color: #E2EBFA;\n",
              "      box-shadow: 0px 1px 2px rgba(60, 64, 67, 0.3), 0px 1px 3px 1px rgba(60, 64, 67, 0.15);\n",
              "      fill: #174EA6;\n",
              "    }\n",
              "\n",
              "    .colab-df-buttons div {\n",
              "      margin-bottom: 4px;\n",
              "    }\n",
              "\n",
              "    [theme=dark] .colab-df-convert {\n",
              "      background-color: #3B4455;\n",
              "      fill: #D2E3FC;\n",
              "    }\n",
              "\n",
              "    [theme=dark] .colab-df-convert:hover {\n",
              "      background-color: #434B5C;\n",
              "      box-shadow: 0px 1px 3px 1px rgba(0, 0, 0, 0.15);\n",
              "      filter: drop-shadow(0px 1px 2px rgba(0, 0, 0, 0.3));\n",
              "      fill: #FFFFFF;\n",
              "    }\n",
              "  </style>\n",
              "\n",
              "    <script>\n",
              "      const buttonEl =\n",
              "        document.querySelector('#df-ef20a845-54e4-4c65-8899-cf24b341931c button.colab-df-convert');\n",
              "      buttonEl.style.display =\n",
              "        google.colab.kernel.accessAllowed ? 'block' : 'none';\n",
              "\n",
              "      async function convertToInteractive(key) {\n",
              "        const element = document.querySelector('#df-ef20a845-54e4-4c65-8899-cf24b341931c');\n",
              "        const dataTable =\n",
              "          await google.colab.kernel.invokeFunction('convertToInteractive',\n",
              "                                                    [key], {});\n",
              "        if (!dataTable) return;\n",
              "\n",
              "        const docLinkHtml = 'Like what you see? Visit the ' +\n",
              "          '<a target=\"_blank\" href=https://colab.research.google.com/notebooks/data_table.ipynb>data table notebook</a>'\n",
              "          + ' to learn more about interactive tables.';\n",
              "        element.innerHTML = '';\n",
              "        dataTable['output_type'] = 'display_data';\n",
              "        await google.colab.output.renderOutput(dataTable, element);\n",
              "        const docLink = document.createElement('div');\n",
              "        docLink.innerHTML = docLinkHtml;\n",
              "        element.appendChild(docLink);\n",
              "      }\n",
              "    </script>\n",
              "  </div>\n",
              "\n",
              "\n",
              "<div id=\"df-2dac3993-b48c-4f40-91ee-d9c3632bb67b\">\n",
              "  <button class=\"colab-df-quickchart\" onclick=\"quickchart('df-2dac3993-b48c-4f40-91ee-d9c3632bb67b')\"\n",
              "            title=\"Suggest charts\"\n",
              "            style=\"display:none;\">\n",
              "\n",
              "<svg xmlns=\"http://www.w3.org/2000/svg\" height=\"24px\"viewBox=\"0 0 24 24\"\n",
              "     width=\"24px\">\n",
              "    <g>\n",
              "        <path d=\"M19 3H5c-1.1 0-2 .9-2 2v14c0 1.1.9 2 2 2h14c1.1 0 2-.9 2-2V5c0-1.1-.9-2-2-2zM9 17H7v-7h2v7zm4 0h-2V7h2v10zm4 0h-2v-4h2v4z\"/>\n",
              "    </g>\n",
              "</svg>\n",
              "  </button>\n",
              "\n",
              "<style>\n",
              "  .colab-df-quickchart {\n",
              "      --bg-color: #E8F0FE;\n",
              "      --fill-color: #1967D2;\n",
              "      --hover-bg-color: #E2EBFA;\n",
              "      --hover-fill-color: #174EA6;\n",
              "      --disabled-fill-color: #AAA;\n",
              "      --disabled-bg-color: #DDD;\n",
              "  }\n",
              "\n",
              "  [theme=dark] .colab-df-quickchart {\n",
              "      --bg-color: #3B4455;\n",
              "      --fill-color: #D2E3FC;\n",
              "      --hover-bg-color: #434B5C;\n",
              "      --hover-fill-color: #FFFFFF;\n",
              "      --disabled-bg-color: #3B4455;\n",
              "      --disabled-fill-color: #666;\n",
              "  }\n",
              "\n",
              "  .colab-df-quickchart {\n",
              "    background-color: var(--bg-color);\n",
              "    border: none;\n",
              "    border-radius: 50%;\n",
              "    cursor: pointer;\n",
              "    display: none;\n",
              "    fill: var(--fill-color);\n",
              "    height: 32px;\n",
              "    padding: 0;\n",
              "    width: 32px;\n",
              "  }\n",
              "\n",
              "  .colab-df-quickchart:hover {\n",
              "    background-color: var(--hover-bg-color);\n",
              "    box-shadow: 0 1px 2px rgba(60, 64, 67, 0.3), 0 1px 3px 1px rgba(60, 64, 67, 0.15);\n",
              "    fill: var(--button-hover-fill-color);\n",
              "  }\n",
              "\n",
              "  .colab-df-quickchart-complete:disabled,\n",
              "  .colab-df-quickchart-complete:disabled:hover {\n",
              "    background-color: var(--disabled-bg-color);\n",
              "    fill: var(--disabled-fill-color);\n",
              "    box-shadow: none;\n",
              "  }\n",
              "\n",
              "  .colab-df-spinner {\n",
              "    border: 2px solid var(--fill-color);\n",
              "    border-color: transparent;\n",
              "    border-bottom-color: var(--fill-color);\n",
              "    animation:\n",
              "      spin 1s steps(1) infinite;\n",
              "  }\n",
              "\n",
              "  @keyframes spin {\n",
              "    0% {\n",
              "      border-color: transparent;\n",
              "      border-bottom-color: var(--fill-color);\n",
              "      border-left-color: var(--fill-color);\n",
              "    }\n",
              "    20% {\n",
              "      border-color: transparent;\n",
              "      border-left-color: var(--fill-color);\n",
              "      border-top-color: var(--fill-color);\n",
              "    }\n",
              "    30% {\n",
              "      border-color: transparent;\n",
              "      border-left-color: var(--fill-color);\n",
              "      border-top-color: var(--fill-color);\n",
              "      border-right-color: var(--fill-color);\n",
              "    }\n",
              "    40% {\n",
              "      border-color: transparent;\n",
              "      border-right-color: var(--fill-color);\n",
              "      border-top-color: var(--fill-color);\n",
              "    }\n",
              "    60% {\n",
              "      border-color: transparent;\n",
              "      border-right-color: var(--fill-color);\n",
              "    }\n",
              "    80% {\n",
              "      border-color: transparent;\n",
              "      border-right-color: var(--fill-color);\n",
              "      border-bottom-color: var(--fill-color);\n",
              "    }\n",
              "    90% {\n",
              "      border-color: transparent;\n",
              "      border-bottom-color: var(--fill-color);\n",
              "    }\n",
              "  }\n",
              "</style>\n",
              "\n",
              "  <script>\n",
              "    async function quickchart(key) {\n",
              "      const quickchartButtonEl =\n",
              "        document.querySelector('#' + key + ' button');\n",
              "      quickchartButtonEl.disabled = true;  // To prevent multiple clicks.\n",
              "      quickchartButtonEl.classList.add('colab-df-spinner');\n",
              "      try {\n",
              "        const charts = await google.colab.kernel.invokeFunction(\n",
              "            'suggestCharts', [key], {});\n",
              "      } catch (error) {\n",
              "        console.error('Error during call to suggestCharts:', error);\n",
              "      }\n",
              "      quickchartButtonEl.classList.remove('colab-df-spinner');\n",
              "      quickchartButtonEl.classList.add('colab-df-quickchart-complete');\n",
              "    }\n",
              "    (() => {\n",
              "      let quickchartButtonEl =\n",
              "        document.querySelector('#df-2dac3993-b48c-4f40-91ee-d9c3632bb67b button');\n",
              "      quickchartButtonEl.style.display =\n",
              "        google.colab.kernel.accessAllowed ? 'block' : 'none';\n",
              "    })();\n",
              "  </script>\n",
              "</div>\n",
              "    </div>\n",
              "  </div>\n"
            ]
          },
          "metadata": {},
          "execution_count": 22
        }
      ],
      "source": [
        "data.head()"
      ]
    },
    {
      "cell_type": "code",
      "execution_count": null,
      "metadata": {
        "colab": {
          "base_uri": "https://localhost:8080/"
        },
        "id": "NrM6Isui43Id",
        "outputId": "8a61333e-c915-42bc-c847-209c500168ec"
      },
      "outputs": [
        {
          "output_type": "execute_result",
          "data": {
            "text/plain": [
              "(77526, 771)"
            ]
          },
          "metadata": {},
          "execution_count": 24
        }
      ],
      "source": [
        "data.shape"
      ]
    },
    {
      "cell_type": "code",
      "execution_count": null,
      "metadata": {
        "colab": {
          "base_uri": "https://localhost:8080/",
          "height": 466
        },
        "id": "wKapAYSNjrQ9",
        "outputId": "17075439-3198-4ace-dde3-f3c025727812"
      },
      "outputs": [
        {
          "output_type": "execute_result",
          "data": {
            "text/plain": [
              "<Axes: xlabel='loss', ylabel='Count'>"
            ]
          },
          "metadata": {},
          "execution_count": 5
        },
        {
          "output_type": "display_data",
          "data": {
            "text/plain": [
              "<Figure size 640x480 with 1 Axes>"
            ],
            "image/png": "[encoded data removed]"
          },
          "metadata": {}
        }
      ],
      "source": [
        "sns.histplot(data =  data[\"loss\"])"
      ]
    },
    {
      "cell_type": "code",
      "execution_count": null,
      "metadata": {
        "colab": {
          "base_uri": "https://localhost:8080/"
        },
        "id": "GmdbIhE2jyJv",
        "outputId": "c4b12063-c2db-49ee-e547-0f806d019abd"
      },
      "outputs": [
        {
          "output_type": "execute_result",
          "data": {
            "text/plain": [
              "190.686899422352"
            ]
          },
          "metadata": {},
          "execution_count": 25
        }
      ],
      "source": [
        "data[\"loss\"].kurtosis()"
      ]
    },
    {
      "cell_type": "code",
      "execution_count": null,
      "metadata": {
        "colab": {
          "base_uri": "https://localhost:8080/"
        },
        "id": "TlU8fM-tlzTh",
        "outputId": "17d23bb3-c329-4834-9b0c-54abbdfd7653"
      },
      "outputs": [
        {
          "output_type": "execute_result",
          "data": {
            "text/plain": [
              "587321"
            ]
          },
          "metadata": {},
          "execution_count": 26
        }
      ],
      "source": [
        "data.isna().sum().sum()"
      ]
    },
    {
      "cell_type": "code",
      "execution_count": null,
      "metadata": {
        "colab": {
          "base_uri": "https://localhost:8080/",
          "height": 35
        },
        "id": "ZRttSeGGUDPP",
        "outputId": "958a65a7-859c-4a58-a9de-657c0a21df33"
      },
      "outputs": [
        {
          "output_type": "execute_result",
          "data": {
            "text/plain": [
              "'g = pd.DataFrame(data.isnull().sum() , columns = [\"sum\"])\\ng[g[\"sum\"] > 0]'"
            ],
            "application/vnd.google.colaboratory.intrinsic+json": {
              "type": "string"
            }
          },
          "metadata": {},
          "execution_count": 8
        }
      ],
      "source": [
        "\"\"\"g = pd.DataFrame(data.isnull().sum() , columns = [\"sum\"])\n",
        "g[g[\"sum\"] > 0]\"\"\""
      ]
    },
    {
      "cell_type": "code",
      "execution_count": null,
      "metadata": {
        "colab": {
          "base_uri": "https://localhost:8080/"
        },
        "id": "-JJCFOOaoEg3",
        "outputId": "a00ffe25-2bb8-4db8-a3c1-5e3dc598adbd"
      },
      "outputs": [
        {
          "output_type": "stream",
          "name": "stderr",
          "text": [
            "<ipython-input-27-41604f42fd75>:3: FutureWarning: The default value of numeric_only in DataFrame.mean is deprecated. In a future version, it will default to False. In addition, specifying 'numeric_only=None' is deprecated. Select only valid columns or specify the value of numeric_only to silence this warning.\n",
            "  df.fillna(df.mean(), inplace = True)\n"
          ]
        }
      ],
      "source": [
        "\n",
        "df = data.copy()\n",
        "df.replace(\"NA\",np.NaN)\n",
        "df.fillna(df.mean(), inplace = True)\n",
        "df = df.dropna()\n",
        "df[\"loss\"] = df[\"loss\"].apply(lambda x: 0 if x== 0 else 1)\n"
      ]
    },
    {
      "cell_type": "code",
      "execution_count": null,
      "metadata": {
        "id": "vsm_saUfeBJn"
      },
      "outputs": [],
      "source": [
        "import random\n",
        "randomlist = random.sample(range(1, 779), 9)"
      ]
    },
    {
      "cell_type": "code",
      "execution_count": null,
      "metadata": {
        "colab": {
          "base_uri": "https://localhost:8080/",
          "height": 53
        },
        "id": "pLT41aq2grK-",
        "outputId": "0260e232-6a77-4153-f8a4-408d5e996d2b"
      },
      "outputs": [
        {
          "output_type": "execute_result",
          "data": {
            "text/plain": [
              "'for i in range(9):\\n  print(\"The kurtosis of {} is {}\" .format(\"f\"+str(randomlist[i]),data[\"f\"+str(randomlist[i])].kurtosis()))'"
            ],
            "application/vnd.google.colaboratory.intrinsic+json": {
              "type": "string"
            }
          },
          "metadata": {},
          "execution_count": 11
        }
      ],
      "source": [
        "\"\"\"for i in range(9):\n",
        "  print(\"The kurtosis of {} is {}\" .format(\"f\"+str(randomlist[i]),data[\"f\"+str(randomlist[i])].kurtosis()))\"\"\""
      ]
    },
    {
      "cell_type": "code",
      "execution_count": null,
      "metadata": {
        "colab": {
          "base_uri": "https://localhost:8080/",
          "height": 53
        },
        "id": "Ywvh7JU5GKlb",
        "outputId": "9060d353-1d6a-4c82-d539-e780a2ca97d6"
      },
      "outputs": [
        {
          "output_type": "execute_result",
          "data": {
            "text/plain": [
              "'fig, axs = plt.subplots(3, 3)\\ncnt = 0\\nfor i in range(3):\\n  for j in range(3):\\n    sns.histplot(ax = axs[i,j],data = data[\"f\"+str(randomlist[cnt])])\\n    cnt+=1\\nplt.tight_layout()'"
            ],
            "application/vnd.google.colaboratory.intrinsic+json": {
              "type": "string"
            }
          },
          "metadata": {},
          "execution_count": 12
        }
      ],
      "source": [
        "\"\"\"fig, axs = plt.subplots(3, 3)\n",
        "cnt = 0\n",
        "for i in range(3):\n",
        "  for j in range(3):\n",
        "    sns.histplot(ax = axs[i,j],data = data[\"f\"+str(randomlist[cnt])])\n",
        "    cnt+=1\n",
        "plt.tight_layout()\"\"\""
      ]
    },
    {
      "cell_type": "code",
      "source": [
        "from sklearn.utils import resample\n",
        "#Undersampling to bypass the imbalance in the loss column\n",
        "n_defaults = df[df[\"loss\"] == 0]\n",
        "defaults = df[df[\"loss\"] == 1]\n",
        "sample_d = resample(defaults, replace = False,n_samples = 9642, random_state = 42)\n",
        "\n",
        "sample_nd = resample(n_defaults,replace = False, n_samples = 20000, random_state = 42)\n",
        "\n",
        "sample_data = pd.concat([sample_d,sample_nd])"
      ],
      "metadata": {
        "id": "xWbOuw1Bv71B"
      },
      "execution_count": null,
      "outputs": []
    },
    {
      "cell_type": "code",
      "execution_count": null,
      "metadata": {
        "id": "QiZgg5VaLhPL"
      },
      "outputs": [],
      "source": [
        "y = sample_data[\"loss\"]\n",
        "X = sample_data.drop(columns = [\"id\",\"loss\"])\n",
        "X_train, X_test, y_train, y_test = train_test_split(X, y, test_size=0.2, random_state=0)"
      ]
    },
    {
      "cell_type": "code",
      "execution_count": null,
      "metadata": {
        "id": "_weWhfAfKDhb"
      },
      "outputs": [],
      "source": [
        "standard_scaler = StandardScaler()\n",
        "X_train = standard_scaler.fit_transform(X_train)\n",
        "X_test = standard_scaler.fit_transform(X_test)"
      ]
    },
    {
      "cell_type": "code",
      "source": [
        "from sklearn.decomposition import PCA\n",
        "pca = PCA()\n",
        "pca.fit(X_train)\n",
        "cumsum = np.cumsum(pca.explained_variance_ratio_)"
      ],
      "metadata": {
        "id": "V1YsickYvBs6"
      },
      "execution_count": null,
      "outputs": []
    },
    {
      "cell_type": "code",
      "execution_count": null,
      "metadata": {
        "id": "U5r4RuR8wkWn"
      },
      "outputs": [],
      "source": [
        "plt.plot(cumsum)\n",
        "plt.xlabel(\"Principal Components\")\n",
        "plt.ylabel(\"Cumulative Variance Explained\")"
      ]
    },
    {
      "cell_type": "code",
      "execution_count": null,
      "metadata": {
        "id": "D5MtsgLuw4ys"
      },
      "outputs": [],
      "source": [
        "d = np.argmax(cumsum >= 0.95) + 1"
      ]
    },
    {
      "cell_type": "code",
      "source": [
        "from sklearn.decomposition import PCA\n",
        "pca = PCA()\n",
        "pca.fit(X_train)\n",
        "cumsum = np.cumsum(pca.explained_variance_ratio_)"
      ],
      "metadata": {
        "id": "UmZ_N07zv1ia"
      },
      "execution_count": null,
      "outputs": []
    },
    {
      "cell_type": "code",
      "execution_count": null,
      "metadata": {
        "id": "gPwIKsx0w6To"
      },
      "outputs": [],
      "source": [
        "print(d)"
      ]
    },
    {
      "cell_type": "code",
      "execution_count": null,
      "metadata": {
        "id": "NkoNq2gPKQPW"
      },
      "outputs": [],
      "source": [
        "pca = PCA(n_components=135)\n",
        "principalComponents_train = pca.fit_transform(X_train)\n",
        "principalComponents_test = pca.fit_transform(X_test)"
      ]
    },
    {
      "cell_type": "code",
      "execution_count": null,
      "metadata": {
        "id": "sFvr_5htMIx-"
      },
      "outputs": [],
      "source": [
        "logreg = LogisticRegression(max_iter = 2000)\n",
        "rc = RandomForestClassifier()\n",
        "gb = GaussianNB()\n",
        "xgb = XGBCLassifier()"
      ]
    },
    {
      "cell_type": "markdown",
      "source": [
        "#XGBoost"
      ],
      "metadata": {
        "id": "j0roOZO1trr5"
      }
    },
    {
      "cell_type": "code",
      "source": [
        "xgb.fit(principalComponents_train,y_train)\n",
        "round(xgb.score(principalComponents_train,y_train)"
      ],
      "metadata": {
        "id": "RdovmoDKtrXy"
      },
      "execution_count": null,
      "outputs": []
    },
    {
      "cell_type": "markdown",
      "metadata": {
        "id": "j-Plyqu4Tx2u"
      },
      "source": [
        "#LOGISTIC REGRESSION"
      ]
    },
    {
      "cell_type": "code",
      "execution_count": null,
      "metadata": {
        "id": "c2BCqDdLMi_U"
      },
      "outputs": [],
      "source": [
        "#Logistic Regression\n",
        "logreg.fit(principalComponents_train,y_train)\n",
        "round(logreg.score(principalComponents_train, y_train))\n"
      ]
    },
    {
      "cell_type": "code",
      "execution_count": null,
      "metadata": {
        "id": "eCENTlEqRSNY"
      },
      "outputs": [],
      "source": [
        "logreg.score(principalComponents_test,y_test)"
      ]
    },
    {
      "cell_type": "code",
      "execution_count": null,
      "metadata": {
        "id": "aS7AtyxuTfdW"
      },
      "outputs": [],
      "source": [
        "logreg_pred = logreg.predict(principalComponents_train)\n",
        "accuracy_score(y_train,logreg_pred)"
      ]
    },
    {
      "cell_type": "markdown",
      "metadata": {
        "id": "HZc6ZgqXT2Gc"
      },
      "source": [
        "#RANDOM FOREST CLASSIFIER"
      ]
    },
    {
      "cell_type": "code",
      "execution_count": null,
      "metadata": {
        "id": "x5zlYRvDT1mh"
      },
      "outputs": [],
      "source": [
        "rc.fit(principalComponents_train,y_train)\n",
        "round(rc.score(principalComponents_train,y_train))\n"
      ]
    },
    {
      "cell_type": "code",
      "execution_count": null,
      "metadata": {
        "id": "M3ZSWTP4UHXn"
      },
      "outputs": [],
      "source": [
        "rc.score(principalComponents_test,y_test)"
      ]
    },
    {
      "cell_type": "code",
      "execution_count": null,
      "metadata": {
        "id": "FR_QcSYyUS_0"
      },
      "outputs": [],
      "source": [
        "rc_pred = rc.predict(principalComponents_train)\n",
        "accuracy_score(rc_pred,y_train)"
      ]
    },
    {
      "cell_type": "markdown",
      "metadata": {
        "id": "LpwfjQ3hVP3W"
      },
      "source": [
        "#GAUSSIAN NAIVES BAYES"
      ]
    },
    {
      "cell_type": "code",
      "execution_count": null,
      "metadata": {
        "id": "WRGHPYIVVUn2"
      },
      "outputs": [],
      "source": [
        "gb.fit(principalComponents_train,y_train)\n",
        "round(gb.score(principalComponents_train,y_train))"
      ]
    },
    {
      "cell_type": "code",
      "execution_count": null,
      "metadata": {
        "id": "ajIjmaDLVds1"
      },
      "outputs": [],
      "source": [
        "gb.score(principalComponents_test,y_test)"
      ]
    },
    {
      "cell_type": "code",
      "execution_count": null,
      "metadata": {
        "id": "QPknoJc_VgNS"
      },
      "outputs": [],
      "source": [
        "gb_pred = gb.predict(principalComponents_train)\n",
        "accuracy_score(gb_pred,y_train)"
      ]
    },
    {
      "cell_type": "markdown",
      "metadata": {
        "id": "6_51nm-4XzaB"
      },
      "source": [
        "#Model performance summary"
      ]
    },
    {
      "cell_type": "code",
      "execution_count": null,
      "metadata": {
        "id": "RCrnjDgFZsBs"
      },
      "outputs": [],
      "source": [
        "models = {\"Logistic Regression\": LogisticRegression(max_iter = 200),\n",
        "        \"Random Forest\": RandomForestClassifier(),\n",
        "        \"Gaussian NB\":GaussianNB()}"
      ]
    },
    {
      "cell_type": "code",
      "execution_count": null,
      "metadata": {
        "id": "lM8lLDfAXyyP"
      },
      "outputs": [],
      "source": [
        "df_model = pd.DataFrame(index=models.keys(),\n",
        "                        columns=['Accuracy', 'Precision', 'Recall', 'F1score'])"
      ]
    },
    {
      "cell_type": "code",
      "execution_count": null,
      "metadata": {
        "id": "M5DB4dojBncV"
      },
      "outputs": [],
      "source": [
        "def train_model(model):\n",
        "    m = model[1]\n",
        "    m.fit(principalComponents_train,y_train)\n",
        "    y_pred = m.predict(principalComponents_train)\n",
        "    # cm = confusion_matrix(y_train, y_train_pred)\n",
        "    # print('Confusion matrix: ' + model[0])\n",
        "    # print(cm)\n",
        "    # print()\n",
        "    accuracy = accuracy_score(y_train, y_pred)\n",
        "    precision = precision_score(y_train, y_pred,average = \"macro\")\n",
        "    recall = recall_score(y_train, y_pred,average = \"macro\")\n",
        "    f1 = f1_score(y_train, y_pred,average = \"macro\")\n",
        "    print(f'{model[0]} Accuracy: {accuracy}')\n",
        "    print(f'{model[0]} Precision: {precision}')\n",
        "    # print(f'{model[0]} Recall: {recall}')\n",
        "    # print(f'{model[0]} f1 - score: {f1}')"
      ]
    },
    {
      "cell_type": "code",
      "execution_count": null,
      "metadata": {
        "id": "sjNILiqe25z5"
      },
      "outputs": [],
      "source": [
        "Training_score_pca = [round(model.score(principalComponents_train, y_train) * 100, 2) for model in df_models.values()]\n",
        "Testing_score_pca = [round(model.score(principalComponents_test, y_test) * 100, 2) for model in df_models.values()]"
      ]
    },
    {
      "cell_type": "code",
      "source": [
        "for name,model in models.items():\n",
        "    y_pred = model.predict(principalComponents_test)\n",
        "    print(\"             {} report\".format(name))\n",
        "    print(metrics.classification_report(y_test, y_pred, digits=3))"
      ],
      "metadata": {
        "id": "qK8JRkOwuHx6"
      },
      "execution_count": null,
      "outputs": []
    },
    {
      "cell_type": "code",
      "source": [
        "from sklearn.metrics import confusion_matrix, ConfusionMatrixDisplay\n",
        "fig, axes = plt.subplots(nrows=2, ncols=2, figsize=(16, 10))\n",
        "models_lst = list(models.values())\n",
        "cnt = 0\n",
        "for i in range(0,2):\n",
        "  for j in range(0,2):\n",
        "    model_pred = models_lst[cnt].predict(principalComponents_test)\n",
        "    conf_m = confusion_matrix(y_test, model_pred)\n",
        "    display = ConfusionMatrixDisplay(confusion_matrix=conf_m, display_labels=['Non defaulters', 'Defaulters'],)\n",
        "    display.plot(values_format='',ax = axes[i,j],colorbar = True,cmap = \"plasma\")\n",
        "    display.ax_.set_title(\"{} confusion matrix\".format(list(models.keys())[cnt]))\n",
        "    cnt+=1\n",
        "  plt.tight_layout()"
      ],
      "metadata": {
        "id": "OnV-gzAwuIgO"
      },
      "execution_count": null,
      "outputs": []
    },
    {
      "cell_type": "code",
      "source": [
        "test_data = pd.read_csv(\"test_v2.csv\",chunksize = 50000)"
      ],
      "metadata": {
        "id": "Z_LI7adT-qjv"
      },
      "execution_count": null,
      "outputs": []
    },
    {
      "cell_type": "code",
      "source": [
        "from pprint import pprint\n",
        "\n",
        "for data in test_data:\n",
        "    x  = pd.DataFrame(data)\n",
        "    break"
      ],
      "metadata": {
        "id": "XoPrXxHX-tOu"
      },
      "execution_count": null,
      "outputs": []
    },
    {
      "cell_type": "code",
      "source": [
        "x.replace(\"NA\",np.NaN)\n",
        "x.fillna(x.mean(), inplace = True)\n",
        "x = x.dropna()\n",
        "standard_scaler = StandardScaler()\n",
        "pca = PCA(n_components=d)\n",
        "test_data_test =  standard_scaler.fit_transform(x)\n",
        "principalComponents_test_data_test = pca.fit_transform(test_data_test)"
      ],
      "metadata": {
        "id": "yT0cBre7-vkp"
      },
      "execution_count": null,
      "outputs": []
    },
    {
      "cell_type": "code",
      "source": [
        "logreg.fit(principalComponents_train,y_train)\n",
        "logreg_pred = logreg.predict(principalComponents_test_data_test)\n"
      ],
      "metadata": {
        "id": "2C_yfiAv-0Yd"
      },
      "execution_count": null,
      "outputs": []
    },
    {
      "cell_type": "code",
      "source": [
        "pd.DataFrame(logreg_pred).value_counts()"
      ],
      "metadata": {
        "id": "G_gXAdqU-3TX"
      },
      "execution_count": null,
      "outputs": []
    },
    {
      "cell_type": "code",
      "source": [
        "g = pd.DataFrame({\"Non-defaulters\":[43866],\"Defaulters\":[3989]})\n",
        "sns.barplot(data = g,errorbar=None)"
      ],
      "metadata": {
        "id": "jzrRaYhA-5PC"
      },
      "execution_count": null,
      "outputs": []
    }
  ],
  "metadata": {
    "colab": {
      "provenance": [],
      "authorship_tag": "ABX9TyP1bZ0lHTMn1Q8l5I6d6i9g",
      "include_colab_link": true
    },
    "kernelspec": {
      "display_name": "Python 3",
      "name": "python3"
    },
    "language_info": {
      "name": "python"
    }
  },
  "nbformat": 4,
  "nbformat_minor": 0
}